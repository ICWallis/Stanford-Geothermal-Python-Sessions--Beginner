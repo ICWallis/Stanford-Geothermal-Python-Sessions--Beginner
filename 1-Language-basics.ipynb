{
 "cells": [
  {
   "attachments": {},
   "cell_type": "markdown",
   "metadata": {},
   "source": [
    "# Python Language Basics\n",
    "\n",
    "This notebook introduces some Python language basics. It is designed for a code-along during the workshop. Some code blocks are deliberately incomplete or have bugs included.\n",
    "\n",
    "To execute code: Place your cursor in the cell, then hit SHIFT + ENTER"
   ]
  },
  {
   "attachments": {},
   "cell_type": "markdown",
   "metadata": {},
   "source": [
    "Before we get started... (adapted from David Dempsey's [Python for Geoscientists](https://github.com/ddempsey/python_for_geoscientists) course)\n",
    "\n",
    "When writing computer code, there are *rules* and there are *conventions*.\n",
    "\n",
    "- If you break a __\\*rule\\*__, the code will not work.\n",
    "\n",
    "- If you break a __\\*convention\\*__, someone, somewhere puts a mark against your name in a book. At the end of times, there will be a final accounting.\n",
    "\n",
    "Some Python rules:\n",
    "\n",
    "- __\\*Syntax\\*__ - we have very precise expectations about how you write computer code. If you type an opening a bracket, you must close it again later. Some lines must be terminated by a colon, - if you omit this, the code will not work. __\\*Learning syntax for a new code is very pedantic and a total pain.\\*__ But you have to do it anyway, and at least Python returns readable error messages to help you understand your missteps...\n",
    "- __\\*Indentation\\*__ - Python reads indentation (not all languages do) and your code will not work if it is not correctly indented. \n",
    "\n",
    "Some Python conventions:\n",
    "\n",
    "- __\\*Commenting\\*__ - it is helpful for the poor soul who has to read your poorly written Python (sometimes that is you, weeks or months later) if you have included little 'sign-posts' in the code, articulating what you are doing. These are called comments. They begin with a # symbol, after which you can write whatever you like and it will not be executed as a command.\n",
    "- __\\*Sensible variable names\\*__ - relating to the thing the variable represents but not too long. For example, if a variable contains the mean temperature, then Tmean is a sensible variable name, where as the_mean_temperature_of_the_profile or a1 are not sensible variable names. \n",
    "- __\\*Layout\\*__ - Although the computer reads Python line-by-line, using a vertical layout improves the human readability and your ability to comment code. Headings and the liberal use of whitespace improves readbility. \n",
    "- __\\*Structure\\*__ - Python files and projects have a standard structure that improves redabality. The structure of files vary, but all files should start with an explanation of what they do and all packages/modules should be imported at the top. For the advanced folks, more on Python project structure can be found [here](https://docs.python-guide.org/writing/structure/).\n",
    "\n",
    "Units are a common source of error. Approches to managing this include:\n",
    "- Include units in the variable names (my preferred) `Tmean_degC = 300`\n",
    "- Include in-line comments on units and conversions used (good, but can be lost information) `Tmean = 300 # mean temp in degC`\n",
    "- Consider tools like [Pint](https://pint.readthedocs.io/en/stable/) to manage units, if it is a large problem (good, but assumes everyone knows how to use pint)"
   ]
  },
  {
   "attachments": {},
   "cell_type": "markdown",
   "metadata": {},
   "source": [
    "---\n"
   ]
  },
  {
   "cell_type": "code",
   "execution_count": 3,
   "metadata": {},
   "outputs": [],
   "source": [
    "# Import packages \n",
    "\n",
    "''' Good practice: \n",
    "Import all libraries/packages used at the top of the document'''\n",
    "\n",
    "import matplotlib.pyplot as plt # for plotting\n",
    "import numpy as np # for array based programming\n",
    "import math # for useful mathematical methods\n",
    "\n",
    "''' Good practice: \n",
    "Packages have standard short names. \n",
    "Using the standard name improves readability. \n",
    "Look at the docs if you are unsure what the standard name is.\n",
    "For example, https://matplotlib.org/3.5.3/api/_as_gen/matplotlib.pyplot.html) ''';\n"
   ]
  },
  {
   "cell_type": "code",
   "execution_count": 4,
   "metadata": {},
   "outputs": [
    {
     "name": "stdout",
     "output_type": "stream",
     "text": [
      "hello world\n"
     ]
    }
   ],
   "source": [
    "# Classic introduction\n",
    "\n",
    "print('hello world')"
   ]
  },
  {
   "cell_type": "code",
   "execution_count": 5,
   "metadata": {},
   "outputs": [
    {
     "name": "stdout",
     "output_type": "stream",
     "text": [
      "<class 'str'>\n"
     ]
    }
   ],
   "source": [
    "# Basics: \"variable\"\n",
    "\n",
    "x = 'hello world'\n",
    "\n",
    "print(type(x))\n",
    "\n",
    "# Language basics: \"types\" (string, integer, float)\n",
    "# Python is a dynamic typed language, checking type (variable state)"
   ]
  },
  {
   "attachments": {},
   "cell_type": "markdown",
   "metadata": {},
   "source": [
    "Definitions:\n",
    "- List\n",
    "- Array\n",
    "- Tuple\n",
    "- Dictionary"
   ]
  },
  {
   "cell_type": "code",
   "execution_count": 6,
   "metadata": {},
   "outputs": [
    {
     "name": "stdout",
     "output_type": "stream",
     "text": [
      "<class 'list'>\n",
      "<class 'numpy.ndarray'>\n"
     ]
    }
   ],
   "source": [
    "# Basics: List, array (intro numpy), tuple, dictionary\n",
    "\n",
    "my_list = [1,2,3,4]\n",
    "print(type(my_list))\n",
    "\n",
    "my_array = np.array([1,2,3,4])\n",
    "print(type(my_array))\n"
   ]
  },
  {
   "cell_type": "code",
   "execution_count": 7,
   "metadata": {},
   "outputs": [
    {
     "name": "stdout",
     "output_type": "stream",
     "text": [
      "[11 12 13 14]\n"
     ]
    }
   ],
   "source": [
    "my_array_of_10s = np.array([10,10,10,10])\n",
    "\n",
    "new_array = my_array + my_array_of_10s\n",
    "\n",
    "print(new_array)\n",
    "\n",
    "# array-based programming"
   ]
  },
  {
   "cell_type": "code",
   "execution_count": 8,
   "metadata": {},
   "outputs": [
    {
     "name": "stdout",
     "output_type": "stream",
     "text": [
      "[1, 2, 3, 4, 10, 10, 10, 10]\n"
     ]
    }
   ],
   "source": [
    "my_list_of_10s = [10,10,10,10]\n",
    "\n",
    "new_list = my_list + my_list_of_10s\n",
    "\n",
    "print(new_list)"
   ]
  },
  {
   "cell_type": "code",
   "execution_count": 9,
   "metadata": {},
   "outputs": [
    {
     "name": "stdout",
     "output_type": "stream",
     "text": [
      "11\n",
      "12\n",
      "13\n",
      "14\n"
     ]
    }
   ],
   "source": [
    "# Basics: \"for loop\" and whitespace\n",
    "for value in my_list:\n",
    "    new_value = value + 10\n",
    "    print(new_value)"
   ]
  },
  {
   "cell_type": "code",
   "execution_count": 23,
   "metadata": {},
   "outputs": [
    {
     "name": "stdout",
     "output_type": "stream",
     "text": [
      "['harry', 1, 9.5, [2, 3, 4]]\n",
      "['harry' 1 9.5 list([2, 3, 4])] (4,)\n",
      "[[4 5 6]\n",
      " [1 2 3]] (2, 3)\n"
     ]
    }
   ],
   "source": [
    "# Basics: Complex lists and arrays \n",
    "\n",
    "complex_list = ['harry', 1, 9.5, [2,3,4]]\n",
    "print(complex_list)\n",
    "\n",
    "complex_array = np.array(['harry', 1, 9.5,[2,3,4]],dtype=object)\n",
    "print(complex_array, complex_array.shape)\n",
    "\n",
    "nD_array = np.array([[4,5,6],[1,2,3]])\n",
    "print(nD_array, nD_array.shape)\n",
    "\n",
    "# shape tells us the number of elements in each dimension"
   ]
  },
  {
   "cell_type": "code",
   "execution_count": null,
   "metadata": {},
   "outputs": [],
   "source": [
    "# Basics: Python as calculator"
   ]
  },
  {
   "cell_type": "code",
   "execution_count": null,
   "metadata": {},
   "outputs": [],
   "source": [
    "# Basics: Python as plot maker"
   ]
  },
  {
   "cell_type": "code",
   "execution_count": null,
   "metadata": {},
   "outputs": [],
   "source": [
    "# Example: Exploring and understanding equations"
   ]
  },
  {
   "cell_type": "code",
   "execution_count": null,
   "metadata": {},
   "outputs": [],
   "source": [
    "# Functions: re-useable tools"
   ]
  },
  {
   "cell_type": "code",
   "execution_count": 2,
   "metadata": {},
   "outputs": [],
   "source": [
    "# Pandas: getting data in"
   ]
  },
  {
   "cell_type": "code",
   "execution_count": 3,
   "metadata": {},
   "outputs": [],
   "source": [
    "# Pandas + Seaborn: make a more complex plot"
   ]
  }
 ],
 "metadata": {
  "kernelspec": {
   "display_name": "base",
   "language": "python",
   "name": "python3"
  },
  "language_info": {
   "codemirror_mode": {
    "name": "ipython",
    "version": 3
   },
   "file_extension": ".py",
   "mimetype": "text/x-python",
   "name": "python",
   "nbconvert_exporter": "python",
   "pygments_lexer": "ipython3",
   "version": "3.8.8"
  },
  "orig_nbformat": 4,
  "vscode": {
   "interpreter": {
    "hash": "c268d92783217d0a189fd0f6bc72a35770f06191246a63de0fd4bf64fa0bf04a"
   }
  }
 },
 "nbformat": 4,
 "nbformat_minor": 2
}
